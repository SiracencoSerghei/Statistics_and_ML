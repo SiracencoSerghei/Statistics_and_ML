{
  "cells": [
    {
      "cell_type": "markdown",
      "metadata": {
        "id": "view-in-github",
        "colab_type": "text"
      },
      "source": [
        "<a href=\"https://colab.research.google.com/github/SiracencoSerghei/Statistics_and_ML/blob/main/2.8_correlation/stats_corr_partialCorrs.ipynb\" target=\"_parent\"><img src=\"https://colab.research.google.com/assets/colab-badge.svg\" alt=\"Open In Colab\"/></a>"
      ]
    },
    {
      "cell_type": "markdown",
      "metadata": {
        "id": "1YPtJr2vjyxQ"
      },
      "source": [
        "# SECTION: Correlation\n",
        "# Partial correlations"
      ]
    },
    {
      "cell_type": "code",
      "execution_count": 13,
      "metadata": {
        "id": "R7N9Gfb4jyxQ"
      },
      "outputs": [],
      "source": [
        "# import libraries\n",
        "import matplotlib.pyplot as plt\n",
        "import numpy as np\n",
        "import pandas as pd\n",
        "import scipy.stats as stats"
      ]
    },
    {
      "cell_type": "code",
      "execution_count": null,
      "metadata": {
        "id": "znY7U37GjyxR"
      },
      "outputs": [],
      "source": [
        "# I'm using pingouin for partial correlations.\n",
        "# You might need to install it, e.g., using the line below.\n",
        "# This needs to be run only once per install.\n",
        "# conda install -c conda-forge pingouin\n",
        "import pingouin as pg"
      ]
    },
    {
      "cell_type": "code",
      "execution_count": null,
      "metadata": {
        "id": "j5cRbb-EjyxR",
        "outputId": "ddb89c98-38f7-4af3-aef4-18d21e2a1837"
      },
      "outputs": [
        {
          "name": "stdout",
          "output_type": "stream",
          "text": [
            "-0.07647191129018778\n",
            "0.5461186812727504\n"
          ]
        }
      ],
      "source": [
        "## the example from the video\n",
        "\n",
        "# raw correlations\n",
        "rmg = .7\n",
        "rsg = .8\n",
        "rms = .9\n",
        "\n",
        "# partial correlations\n",
        "rho_mg_s = (rmg - rsg*rms) / ( np.sqrt(1-rsg**2)*np.sqrt(1-rms**2) )\n",
        "rho_sg_m = (rsg - rmg*rms) / ( np.sqrt(1-rmg**2)*np.sqrt(1-rms**2) )\n",
        "\n",
        "print(rho_mg_s)\n",
        "print(rho_sg_m)"
      ]
    },
    {
      "cell_type": "code",
      "execution_count": null,
      "metadata": {
        "id": "1g5qMQ9BjyxR",
        "outputId": "0a3dae8f-49f0-48e4-8ed6-4d25ffa51a1a"
      },
      "outputs": [
        {
          "name": "stdout",
          "output_type": "stream",
          "text": [
            "          x1        x2        x3\n",
            "x1  1.000000  0.923721  0.928370\n",
            "x2  0.923721  1.000000  0.865601\n",
            "x3  0.928370  0.865601  1.000000\n",
            " \n",
            "0.923721041602708\n",
            " \n",
            "          n         r          CI95%     p-val\n",
            "pearson  76  0.056515  [-0.17, 0.28]  0.630088\n"
          ]
        }
      ],
      "source": [
        "## now for datasets\n",
        "\n",
        "N = 76\n",
        "\n",
        "# correlated datasets\n",
        "x1 = np.linspace(1,10,N) + np.random.randn(N)\n",
        "x2 = x1 + np.random.randn(N)\n",
        "x3 = x1 + np.random.randn(N)\n",
        "\n",
        "# let's convert these data to a pandas frame\n",
        "df = pd.DataFrame()\n",
        "df['x1'] = x1\n",
        "df['x2'] = x2\n",
        "df['x3'] = x3\n",
        "\n",
        "# compute the \"raw\" correlation matrix\n",
        "cormatR = df.corr()\n",
        "print(cormatR)\n",
        "\n",
        "# print out one value\n",
        "print(' ')\n",
        "print(cormatR.values[1,0])\n",
        "\n",
        "# partial correlation\n",
        "pc = pg.partial_corr(df,x='x3',y='x2',covar='x1')\n",
        "print(' ')\n",
        "print(pc)"
      ]
    },
    {
      "cell_type": "code",
      "execution_count": null,
      "metadata": {
        "id": "GrTKCPigjyxR",
        "outputId": "cb4de024-9797-4ad8-c85a-aaf38cc6de30"
      },
      "outputs": [
        {
          "data": {
            "image/png": "[encoded data removed]",
            "text/plain": [
              "<Figure size 600x300 with 2 Axes>"
            ]
          },
          "metadata": {},
          "output_type": "display_data"
        }
      ],
      "source": [
        "## visualize the matrices\n",
        "\n",
        "fig,ax = plt.subplots(1,2,figsize=(6,3))\n",
        "\n",
        "# raw correlations\n",
        "ax[0].imshow(cormatR.values,vmin=-1,vmax=1)\n",
        "ax[0].set_xticks(range(3))\n",
        "ax[0].set_yticks(range(3))\n",
        "\n",
        "# add text\n",
        "for i in range(3):\n",
        "    for j in range(3):\n",
        "        ax[0].text(i,j,np.round(cormatR.values[i,j],2), horizontalalignment='center')\n",
        "\n",
        "\n",
        "\n",
        "# partial correlations\n",
        "partialCorMat = df.pcorr()\n",
        "ax[1].imshow(partialCorMat.values,vmin=-1,vmax=1)\n",
        "ax[1].set_xticks(range(3))\n",
        "ax[1].set_yticks(range(3))\n",
        "\n",
        "for i in range(3):\n",
        "    for j in range(3):\n",
        "        ax[1].text(i,j,np.round(partialCorMat.values[i,j],2), horizontalalignment='center')\n",
        "\n",
        "\n",
        "plt.show()"
      ]
    }
  ],
  "metadata": {
    "kernelspec": {
      "display_name": "Python 3",
      "language": "python",
      "name": "python3"
    },
    "language_info": {
      "codemirror_mode": {
        "name": "ipython",
        "version": 3
      },
      "file_extension": ".py",
      "mimetype": "text/x-python",
      "name": "python",
      "nbconvert_exporter": "python",
      "pygments_lexer": "ipython3",
      "version": "3.12.1"
    },
    "colab": {
      "provenance": [],
      "include_colab_link": true
    }
  },
  "nbformat": 4,
  "nbformat_minor": 0
}