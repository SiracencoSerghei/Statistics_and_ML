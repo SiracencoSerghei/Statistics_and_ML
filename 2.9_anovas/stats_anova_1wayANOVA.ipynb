{
  "cells": [
    {
      "cell_type": "markdown",
      "metadata": {
        "colab_type": "text",
        "id": "view-in-github"
      },
      "source": [
        "<a href=\"https://colab.research.google.com/github/SiracencoSerghei/Statistics_and_ML/blob/main/2.9_anovas/stats_anova_1wayANOVA.ipynb\" target=\"_parent\"><img src=\"https://colab.research.google.com/assets/colab-badge.svg\" alt=\"Open In Colab\"/></a>"
      ]
    },
    {
      "cell_type": "markdown",
      "metadata": {
        "id": "WbfhQ_FAbGfa"
      },
      "source": [
        "# SECTION: ANOVA\n",
        "# One-way ANOVA (independent samples)"
      ]
    },
    {
      "cell_type": "code",
      "execution_count": 1,
      "metadata": {
        "id": "xX7sz5dBbGfb"
      },
      "outputs": [],
      "source": [
        "# import libraries\n",
        "import numpy as np\n",
        "import matplotlib.pyplot as plt\n",
        "import pingouin as pg\n",
        "import pandas as pd"
      ]
    },
    {
      "cell_type": "code",
      "execution_count": 2,
      "metadata": {
        "id": "9_PcG_T5bGfb"
      },
      "outputs": [],
      "source": [
        "## data parameters\n",
        "\n",
        "# group means\n",
        "mean1 = 4\n",
        "mean2 = 3.8\n",
        "mean3 = 7\n",
        "\n",
        "# samples per group\n",
        "N1 = 30\n",
        "N2 = 35\n",
        "N3 = 29\n",
        "\n",
        "# standard deviation (assume common across groups)\n",
        "stdev = 2\n"
      ]
    },
    {
      "cell_type": "code",
      "execution_count": 3,
      "metadata": {
        "id": "P0rscE0abGfb"
      },
      "outputs": [
        {
          "data": {
            "text/html": [
              "<div>\n",
              "<style scoped>\n",
              "    .dataframe tbody tr th:only-of-type {\n",
              "        vertical-align: middle;\n",
              "    }\n",
              "\n",
              "    .dataframe tbody tr th {\n",
              "        vertical-align: top;\n",
              "    }\n",
              "\n",
              "    .dataframe thead th {\n",
              "        text-align: right;\n",
              "    }\n",
              "</style>\n",
              "<table border=\"1\" class=\"dataframe\">\n",
              "  <thead>\n",
              "    <tr style=\"text-align: right;\">\n",
              "      <th></th>\n",
              "      <th>TheData</th>\n",
              "      <th>Group</th>\n",
              "    </tr>\n",
              "  </thead>\n",
              "  <tbody>\n",
              "    <tr>\n",
              "      <th>0</th>\n",
              "      <td>4.414081</td>\n",
              "      <td>1</td>\n",
              "    </tr>\n",
              "    <tr>\n",
              "      <th>1</th>\n",
              "      <td>5.697783</td>\n",
              "      <td>1</td>\n",
              "    </tr>\n",
              "    <tr>\n",
              "      <th>2</th>\n",
              "      <td>3.252661</td>\n",
              "      <td>1</td>\n",
              "    </tr>\n",
              "    <tr>\n",
              "      <th>3</th>\n",
              "      <td>5.024818</td>\n",
              "      <td>1</td>\n",
              "    </tr>\n",
              "    <tr>\n",
              "      <th>4</th>\n",
              "      <td>5.450721</td>\n",
              "      <td>1</td>\n",
              "    </tr>\n",
              "    <tr>\n",
              "      <th>...</th>\n",
              "      <td>...</td>\n",
              "      <td>...</td>\n",
              "    </tr>\n",
              "    <tr>\n",
              "      <th>89</th>\n",
              "      <td>8.173643</td>\n",
              "      <td>3</td>\n",
              "    </tr>\n",
              "    <tr>\n",
              "      <th>90</th>\n",
              "      <td>6.134267</td>\n",
              "      <td>3</td>\n",
              "    </tr>\n",
              "    <tr>\n",
              "      <th>91</th>\n",
              "      <td>4.950773</td>\n",
              "      <td>3</td>\n",
              "    </tr>\n",
              "    <tr>\n",
              "      <th>92</th>\n",
              "      <td>7.598870</td>\n",
              "      <td>3</td>\n",
              "    </tr>\n",
              "    <tr>\n",
              "      <th>93</th>\n",
              "      <td>7.415805</td>\n",
              "      <td>3</td>\n",
              "    </tr>\n",
              "  </tbody>\n",
              "</table>\n",
              "<p>94 rows × 2 columns</p>\n",
              "</div>"
            ],
            "text/plain": [
              "     TheData Group\n",
              "0   4.414081     1\n",
              "1   5.697783     1\n",
              "2   3.252661     1\n",
              "3   5.024818     1\n",
              "4   5.450721     1\n",
              "..       ...   ...\n",
              "89  8.173643     3\n",
              "90  6.134267     3\n",
              "91  4.950773     3\n",
              "92  7.598870     3\n",
              "93  7.415805     3\n",
              "\n",
              "[94 rows x 2 columns]"
            ]
          },
          "execution_count": 3,
          "metadata": {},
          "output_type": "execute_result"
        }
      ],
      "source": [
        "## now to simulate the data\n",
        "data1 = mean1 + np.random.randn(N1)*stdev\n",
        "data2 = mean2 + np.random.randn(N2)*stdev\n",
        "data3 = mean3 + np.random.randn(N3)*stdev\n",
        "\n",
        "datacolumn = np.hstack((data1,data2,data3))\n",
        "\n",
        "# group labels\n",
        "groups = ['1']*N1 + ['2']*N2 + ['3']*N3\n",
        "\n",
        "# convert to a pandas dataframe\n",
        "df = pd.DataFrame({'TheData':datacolumn,'Group':groups})\n",
        "df"
      ]
    },
    {
      "cell_type": "code",
      "execution_count": 4,
      "metadata": {
        "id": "Vj9St26LbGfc"
      },
      "outputs": [
        {
          "data": {
            "text/html": [
              "<div>\n",
              "<style scoped>\n",
              "    .dataframe tbody tr th:only-of-type {\n",
              "        vertical-align: middle;\n",
              "    }\n",
              "\n",
              "    .dataframe tbody tr th {\n",
              "        vertical-align: top;\n",
              "    }\n",
              "\n",
              "    .dataframe thead th {\n",
              "        text-align: right;\n",
              "    }\n",
              "</style>\n",
              "<table border=\"1\" class=\"dataframe\">\n",
              "  <thead>\n",
              "    <tr style=\"text-align: right;\">\n",
              "      <th></th>\n",
              "      <th>Source</th>\n",
              "      <th>ddof1</th>\n",
              "      <th>ddof2</th>\n",
              "      <th>F</th>\n",
              "      <th>p-unc</th>\n",
              "      <th>np2</th>\n",
              "    </tr>\n",
              "  </thead>\n",
              "  <tbody>\n",
              "    <tr>\n",
              "      <th>0</th>\n",
              "      <td>Group</td>\n",
              "      <td>2</td>\n",
              "      <td>91</td>\n",
              "      <td>26.562919</td>\n",
              "      <td>8.196519e-10</td>\n",
              "      <td>0.368607</td>\n",
              "    </tr>\n",
              "  </tbody>\n",
              "</table>\n",
              "</div>"
            ],
            "text/plain": [
              "  Source  ddof1  ddof2          F         p-unc       np2\n",
              "0  Group      2     91  26.562919  8.196519e-10  0.368607"
            ]
          },
          "execution_count": 4,
          "metadata": {},
          "output_type": "execute_result"
        }
      ],
      "source": [
        "pg.anova(data=df,dv='TheData',between='Group')"
      ]
    },
    {
      "cell_type": "markdown",
      "metadata": {},
      "source": [
        "In the ANOVA table output you've provided, here is what each column represents:\n",
        "\n",
        "Source: \n",
        "This column indicates the factor or variable that is being tested for its effect on the dependent variable. In your case, \"Group\" is the factor being analyzed.\n",
        "\n",
        "ddof1: \n",
        "This stands for \"degrees of freedom 1,\" which is the between-group degrees of freedom. It corresponds to the number of groups minus one (k - 1), where k is the number of groups.\n",
        "\n",
        "ddof2: \n",
        "This stands for \"degrees of freedom 2,\" which is the within-group (or residual) degrees of freedom. It is calculated as the total number of observations minus the number of groups (N−k), where N is the total number of observations.\n",
        "\n",
        "F: \n",
        "The F-statistic is a ratio of the variance between groups to the variance within groups. It helps determine whether there are significant differences between the means of the groups. A larger F-value typically indicates more substantial evidence against the null hypothesis.\n",
        "\n",
        "p-unc: \n",
        "This is the uncorrected p-value, which indicates the probability of observing the given F-statistic under the null hypothesis that there is no difference between group means. A smaller p-value (e.g., < 0.05) suggests that the observed differences are statistically significant.\n",
        "\n",
        "np2: \n",
        "This represents the partial eta squared (𝜂2), which is a measure of effect size. It quantifies the proportion of the total variance that is attributable to the factor being tested (Group), providing an idea of the strength of the association."
      ]
    },
    {
      "cell_type": "code",
      "execution_count": 5,
      "metadata": {
        "id": "M6hSIH90bGfc"
      },
      "outputs": [
        {
          "data": {
            "text/html": [
              "<div>\n",
              "<style scoped>\n",
              "    .dataframe tbody tr th:only-of-type {\n",
              "        vertical-align: middle;\n",
              "    }\n",
              "\n",
              "    .dataframe tbody tr th {\n",
              "        vertical-align: top;\n",
              "    }\n",
              "\n",
              "    .dataframe thead th {\n",
              "        text-align: right;\n",
              "    }\n",
              "</style>\n",
              "<table border=\"1\" class=\"dataframe\">\n",
              "  <thead>\n",
              "    <tr style=\"text-align: right;\">\n",
              "      <th></th>\n",
              "      <th>A</th>\n",
              "      <th>B</th>\n",
              "      <th>mean(A)</th>\n",
              "      <th>mean(B)</th>\n",
              "      <th>diff</th>\n",
              "      <th>se</th>\n",
              "      <th>T</th>\n",
              "      <th>p-tukey</th>\n",
              "      <th>hedges</th>\n",
              "    </tr>\n",
              "  </thead>\n",
              "  <tbody>\n",
              "    <tr>\n",
              "      <th>0</th>\n",
              "      <td>1</td>\n",
              "      <td>2</td>\n",
              "      <td>4.033043</td>\n",
              "      <td>4.235163</td>\n",
              "      <td>-0.202120</td>\n",
              "      <td>0.437038</td>\n",
              "      <td>-0.462476</td>\n",
              "      <td>8.889502e-01</td>\n",
              "      <td>-0.112880</td>\n",
              "    </tr>\n",
              "    <tr>\n",
              "      <th>1</th>\n",
              "      <td>1</td>\n",
              "      <td>3</td>\n",
              "      <td>4.033043</td>\n",
              "      <td>6.995144</td>\n",
              "      <td>-2.962101</td>\n",
              "      <td>0.457429</td>\n",
              "      <td>-6.475543</td>\n",
              "      <td>1.411003e-08</td>\n",
              "      <td>-1.708294</td>\n",
              "    </tr>\n",
              "    <tr>\n",
              "      <th>2</th>\n",
              "      <td>2</td>\n",
              "      <td>3</td>\n",
              "      <td>4.235163</td>\n",
              "      <td>6.995144</td>\n",
              "      <td>-2.759981</td>\n",
              "      <td>0.441077</td>\n",
              "      <td>-6.257370</td>\n",
              "      <td>3.769512e-08</td>\n",
              "      <td>-1.527667</td>\n",
              "    </tr>\n",
              "  </tbody>\n",
              "</table>\n",
              "</div>"
            ],
            "text/plain": [
              "   A  B   mean(A)   mean(B)      diff        se         T       p-tukey  \\\n",
              "0  1  2  4.033043  4.235163 -0.202120  0.437038 -0.462476  8.889502e-01   \n",
              "1  1  3  4.033043  6.995144 -2.962101  0.457429 -6.475543  1.411003e-08   \n",
              "2  2  3  4.235163  6.995144 -2.759981  0.441077 -6.257370  3.769512e-08   \n",
              "\n",
              "     hedges  \n",
              "0 -0.112880  \n",
              "1 -1.708294  \n",
              "2 -1.527667  "
            ]
          },
          "execution_count": 5,
          "metadata": {},
          "output_type": "execute_result"
        }
      ],
      "source": [
        "pg.pairwise_tukey(data=df,dv='TheData',between='Group')"
      ]
    },
    {
      "cell_type": "code",
      "execution_count": 6,
      "metadata": {
        "id": "9iSky0EjbGfc"
      },
      "outputs": [
        {
          "data": {
            "image/png": "[encoded data removed]",
            "text/plain": [
              "<Figure size 640x480 with 1 Axes>"
            ]
          },
          "metadata": {},
          "output_type": "display_data"
        }
      ],
      "source": [
        "df.boxplot('TheData',by='Group');"
      ]
    }
  ],
  "metadata": {
    "colab": {
      "include_colab_link": true,
      "provenance": []
    },
    "kernelspec": {
      "display_name": "Python 3",
      "language": "python",
      "name": "python3"
    },
    "language_info": {
      "codemirror_mode": {
        "name": "ipython",
        "version": 3
      },
      "file_extension": ".py",
      "mimetype": "text/x-python",
      "name": "python",
      "nbconvert_exporter": "python",
      "pygments_lexer": "ipython3",
      "version": "3.12.1"
    }
  },
  "nbformat": 4,
  "nbformat_minor": 0
}
