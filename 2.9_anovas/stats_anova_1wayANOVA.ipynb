{
  "cells": [
    {
      "cell_type": "markdown",
      "metadata": {
        "colab_type": "text",
        "id": "view-in-github"
      },
      "source": [
        "<a href=\"https://colab.research.google.com/github/SiracencoSerghei/Statistics_and_ML/blob/main/2.9_anovas/stats_anova_1wayANOVA.ipynb\" target=\"_parent\"><img src=\"https://colab.research.google.com/assets/colab-badge.svg\" alt=\"Open In Colab\"/></a>"
      ]
    },
    {
      "cell_type": "markdown",
      "metadata": {
        "id": "WbfhQ_FAbGfa"
      },
      "source": [
        "# SECTION: ANOVA\n",
        "# One-way ANOVA (independent samples)"
      ]
    },
    {
      "cell_type": "code",
      "execution_count": null,
      "metadata": {
        "id": "xX7sz5dBbGfb"
      },
      "outputs": [],
      "source": [
        "# import libraries\n",
        "import numpy as np\n",
        "import matplotlib.pyplot as plt\n",
        "import pingouin as pg\n",
        "import pandas as pd"
      ]
    },
    {
      "cell_type": "code",
      "execution_count": null,
      "metadata": {
        "id": "9_PcG_T5bGfb"
      },
      "outputs": [],
      "source": [
        "## data parameters\n",
        "\n",
        "# group means\n",
        "mean1 = 4\n",
        "mean2 = 3.8\n",
        "mean3 = 7\n",
        "\n",
        "# samples per group\n",
        "N1 = 30\n",
        "N2 = 35\n",
        "N3 = 29\n",
        "\n",
        "# standard deviation (assume common across groups)\n",
        "stdev = 2\n"
      ]
    },
    {
      "cell_type": "code",
      "execution_count": null,
      "metadata": {
        "id": "P0rscE0abGfb"
      },
      "outputs": [],
      "source": [
        "## now to simulate the data\n",
        "data1 = mean1 + np.random.randn(N1)*stdev\n",
        "data2 = mean2 + np.random.randn(N2)*stdev\n",
        "data3 = mean3 + np.random.randn(N3)*stdev\n",
        "\n",
        "datacolumn = np.hstack((data1,data2,data3))\n",
        "\n",
        "# group labels\n",
        "groups = ['1']*N1 + ['2']*N2 + ['3']*N3\n",
        "\n",
        "# convert to a pandas dataframe\n",
        "df = pd.DataFrame({'TheData':datacolumn,'Group':groups})\n",
        "df"
      ]
    },
    {
      "cell_type": "code",
      "execution_count": null,
      "metadata": {
        "id": "Vj9St26LbGfc"
      },
      "outputs": [],
      "source": [
        "pg.anova(data=df,dv='TheData',between='Group')"
      ]
    },
    {
      "cell_type": "code",
      "execution_count": null,
      "metadata": {
        "id": "M6hSIH90bGfc"
      },
      "outputs": [],
      "source": [
        "pg.pairwise_tukey(data=df,dv='TheData',between='Group')"
      ]
    },
    {
      "cell_type": "code",
      "execution_count": null,
      "metadata": {
        "id": "9iSky0EjbGfc"
      },
      "outputs": [],
      "source": [
        "df.boxplot('TheData',by='Group');"
      ]
    }
  ],
  "metadata": {
    "colab": {
      "include_colab_link": true,
      "provenance": []
    },
    "kernelspec": {
      "display_name": "Python 3",
      "language": "python",
      "name": "python3"
    },
    "language_info": {
      "codemirror_mode": {
        "name": "ipython",
        "version": 3
      },
      "file_extension": ".py",
      "mimetype": "text/x-python",
      "name": "python",
      "nbconvert_exporter": "python",
      "pygments_lexer": "ipython3",
      "version": "3.12.1"
    }
  },
  "nbformat": 4,
  "nbformat_minor": 0
}
