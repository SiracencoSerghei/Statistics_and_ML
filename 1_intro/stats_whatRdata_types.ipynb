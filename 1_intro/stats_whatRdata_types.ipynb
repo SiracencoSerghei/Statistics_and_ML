{
  "cells": [
    {
      "cell_type": "markdown",
      "metadata": {
        "id": "view-in-github",
        "colab_type": "text"
      },
      "source": [
        "<a href=\"https://colab.research.google.com/github/SiracencoSerghei/Statistics_and_ML/blob/main/intro/stats_whatRdata_types.ipynb\" target=\"_parent\"><img src=\"https://colab.research.google.com/assets/colab-badge.svg\" alt=\"Open In Colab\"/></a>"
      ]
    },
    {
      "cell_type": "markdown",
      "metadata": {
        "id": "cFNY1OYXXo1B"
      },
      "source": [
        "# What are (is?) data?\n",
        "# Code: Representing types of data on computers\n"
      ]
    },
    {
      "cell_type": "code",
      "execution_count": 1,
      "metadata": {
        "id": "pCYCFUmFXo1C"
      },
      "outputs": [],
      "source": [
        "## create variables of different types (classes)\n",
        "\n",
        "# data numerical (here as a list)\n",
        "numdata = [ 1, 7, 17, 1717 ]\n",
        "\n",
        "# character / string\n",
        "chardata = 'xyz'\n",
        "\n",
        "# double-quotes also fine\n",
        "strdata = \"x\"\n",
        "\n",
        "# boolean (aka logical)\n",
        "logitdata = True\n",
        "\n",
        "# a list can be used like a MATLAB cell\n",
        "listdata = [ [3, 4, 34] , 'hello' , 4 ]\n",
        "\n",
        "# dict (kindof similar to MATLAB structure)\n",
        "dictdata = dict()\n",
        "dictdata['name'] = 'Mike'\n",
        "dictdata['age'] = 25\n",
        "dictdata['occupation'] = 'Nerdoscientist'\n"
      ]
    },
    {
      "cell_type": "code",
      "execution_count": 2,
      "metadata": {
        "id": "IkjEUOPpXo1C",
        "outputId": "8bc053c7-0bb4-41eb-c26d-94088e11c661",
        "colab": {
          "base_uri": "https://localhost:8080/"
        }
      },
      "outputs": [
        {
          "output_type": "stream",
          "name": "stdout",
          "text": [
            "Variable    Type    Data/Info\n",
            "-----------------------------\n",
            "chardata    str     xyz\n",
            "dictdata    dict    n=3\n",
            "listdata    list    n=3\n",
            "logitdata   bool    True\n",
            "numdata     list    n=4\n",
            "strdata     str     x\n"
          ]
        }
      ],
      "source": [
        "# let's see what the workspace looks like\n",
        "%whos"
      ]
    },
    {
      "cell_type": "code",
      "execution_count": 3,
      "metadata": {
        "id": "WkmanpaYXo1C"
      },
      "outputs": [],
      "source": [
        "# clear the Python workspace\n",
        "%reset -sf"
      ]
    },
    {
      "cell_type": "code",
      "source": [
        "# let's see what the workspace looks like\n",
        "%whos"
      ],
      "metadata": {
        "id": "grKdZNdIX7y5",
        "outputId": "407ce3c0-91c9-4d00-a0a2-e683131e7358",
        "colab": {
          "base_uri": "https://localhost:8080/"
        }
      },
      "execution_count": 4,
      "outputs": [
        {
          "output_type": "stream",
          "name": "stdout",
          "text": [
            "Interactive namespace is empty.\n"
          ]
        }
      ]
    }
  ],
  "metadata": {
    "kernelspec": {
      "display_name": "Python 3",
      "language": "python",
      "name": "python3"
    },
    "language_info": {
      "codemirror_mode": {
        "name": "ipython",
        "version": 3
      },
      "file_extension": ".py",
      "mimetype": "text/x-python",
      "name": "python",
      "nbconvert_exporter": "python",
      "pygments_lexer": "ipython3",
      "version": "3.7.4"
    },
    "colab": {
      "provenance": [],
      "include_colab_link": true
    }
  },
  "nbformat": 4,
  "nbformat_minor": 0
}