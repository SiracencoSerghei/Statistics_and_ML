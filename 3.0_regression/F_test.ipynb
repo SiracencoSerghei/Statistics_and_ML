{
 "cells": [
  {
   "cell_type": "code",
   "execution_count": 8,
   "metadata": {},
   "outputs": [
    {
     "name": "stdout",
     "output_type": "stream",
     "text": [
      "SS_res (Reduced): 4.33\n",
      "SS_res (Full): 2.60\n",
      "F-statistic: 4.99\n",
      "Degrees of freedom (Numerator): 2\n",
      "Degrees of freedom (Denominator): 15\n",
      "P-value: 0.0218\n"
     ]
    }
   ],
   "source": [
    "import numpy as np\n",
    "from scipy.stats import f\n",
    "\n",
    "# Simulate dataset\n",
    "np.random.seed(42)\n",
    "n = 20  # number of observations\n",
    "x1 = np.random.rand(n)\n",
    "x2 = np.random.rand(n)\n",
    "x3 = np.random.rand(n)\n",
    "y = 3 * x1 + 2 * x2 - x3 + np.random.normal(0, 0.5, n)  # true underlying model\n",
    "\n",
    "# Fit reduced model (k = 2 predictors)\n",
    "X_reduced = np.column_stack((np.ones(n), x1))  # Intercept + x1\n",
    "beta_reduced = np.linalg.lstsq(X_reduced, y, rcond=None)[0]\n",
    "y_hat_reduced = X_reduced @ beta_reduced\n",
    "SS_res_reduced = np.sum((y - y_hat_reduced)**2)\n",
    "\n",
    "# Fit full model (p = 4 predictors)\n",
    "X_full = np.column_stack((np.ones(n), x1, x2, x3))  # Intercept + x1, x2, x3\n",
    "beta_full = np.linalg.lstsq(X_full, y, rcond=None)[0]\n",
    "y_hat_full = X_full @ beta_full\n",
    "SS_res_full = np.sum((y - y_hat_full)**2)\n",
    "\n",
    "\n",
    "# Degrees of freedom\n",
    "p = 4  # number of predictors in the full model (including intercept)\n",
    "k = 2  # number of predictors in the reduced model (including intercept)\n",
    "df_numerator = p - k  # Numerator degrees of freedom\n",
    "df_denominator = n - p - 1  # Denominator degrees of freedom\n",
    "\n",
    "# F-statistic\n",
    "F_stat = ((SS_res_reduced - SS_res_full) / df_numerator) / (SS_res_full / df_denominator)\n",
    "\n",
    "print(f\"SS_res (Reduced): {SS_res_reduced:.2f}\")\n",
    "print(f\"SS_res (Full): {SS_res_full:.2f}\")\n",
    "print(f\"F-statistic: {F_stat:.2f}\")\n",
    "print(f\"Degrees of freedom (Numerator): {df_numerator}\")\n",
    "print(f\"Degrees of freedom (Denominator): {df_denominator}\")\n",
    "\n",
    "p_value = 1 - f.cdf(F_stat, df_numerator, df_denominator)\n",
    "print(f\"P-value: {p_value:.4f}\")\n"
   ]
  },
  {
   "cell_type": "markdown",
   "metadata": {},
   "source": [
    "If p-value < 0.05: The additional predictors in the full model significantly improve the fit. The full model is better.\n",
    "If p-value ≥ 0.05: The additional predictors in the full model do not significantly improve the fit. The reduced model is preferred."
   ]
  }
 ],
 "metadata": {
  "kernelspec": {
   "display_name": "venv",
   "language": "python",
   "name": "python3"
  },
  "language_info": {
   "codemirror_mode": {
    "name": "ipython",
    "version": 3
   },
   "file_extension": ".py",
   "mimetype": "text/x-python",
   "name": "python",
   "nbconvert_exporter": "python",
   "pygments_lexer": "ipython3",
   "version": "3.12.1"
  }
 },
 "nbformat": 4,
 "nbformat_minor": 2
}
