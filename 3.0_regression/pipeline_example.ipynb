{
 "cells": [
  {
   "cell_type": "code",
   "execution_count": 3,
   "metadata": {},
   "outputs": [
    {
     "name": "stdout",
     "output_type": "stream",
     "text": [
      "Коефіцієнти моделі: [40.01091848]\n",
      "Прогнози для тестових даних: [-58.66528327  65.48743554  36.04876271 -17.24928234 -10.26070235]\n"
     ]
    }
   ],
   "source": [
    "from sklearn.pipeline import Pipeline\n",
    "from sklearn.preprocessing import StandardScaler\n",
    "from sklearn.linear_model import LinearRegression\n",
    "from sklearn.model_selection import train_test_split\n",
    "from sklearn.datasets import make_regression\n",
    "\n",
    "# 1. Генеруємо синтетичні дані\n",
    "X, y = make_regression(n_samples=100, n_features=1, noise=10, random_state=42)\n",
    "\n",
    "# 2. Розділяємо дані на навчальний і тестовий набори\n",
    "X_train, X_test, y_train, y_test = train_test_split(X, y, test_size=0.2, random_state=42)\n",
    "\n",
    "# 3. Створюємо пайплайн\n",
    "pipeline = Pipeline([\n",
    "    ('scaler', StandardScaler()),  # Масштабування даних\n",
    "    ('model', LinearRegression())  # Лінійна регресія\n",
    "])\n",
    "\n",
    "# 4. Навчаємо модель\n",
    "pipeline.fit(X_train, y_train)\n",
    "\n",
    "# 5. Робимо прогнози\n",
    "y_pred = pipeline.predict(X_test)\n",
    "\n",
    "# 6. Виводимо результат\n",
    "print(\"Коефіцієнти моделі:\", pipeline.named_steps['model'].coef_)\n",
    "print(\"Прогнози для тестових даних:\", y_pred[:5])"
   ]
  }
 ],
 "metadata": {
  "kernelspec": {
   "display_name": "venv",
   "language": "python",
   "name": "python3"
  },
  "language_info": {
   "codemirror_mode": {
    "name": "ipython",
    "version": 3
   },
   "file_extension": ".py",
   "mimetype": "text/x-python",
   "name": "python",
   "nbconvert_exporter": "python",
   "pygments_lexer": "ipython3",
   "version": "3.12.1"
  }
 },
 "nbformat": 4,
 "nbformat_minor": 2
}
