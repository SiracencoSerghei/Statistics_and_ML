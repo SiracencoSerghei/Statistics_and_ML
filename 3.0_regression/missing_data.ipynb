{
 "cells": [
  {
   "cell_type": "code",
   "execution_count": 36,
   "metadata": {},
   "outputs": [],
   "source": [
    "import pandas as pd\n",
    "import numpy as np\n",
    "from sklearn.impute import KNNImputer\n",
    "from sklearn.model_selection import train_test_split\n",
    "from sklearn.impute import SimpleImputer\n",
    "from sklearn.experimental import enable_iterative_imputer\n",
    "from sklearn.impute import IterativeImputer\n",
    "from sklearn.linear_model import LinearRegression"
   ]
  },
  {
   "cell_type": "markdown",
   "metadata": {},
   "source": [
    "---\n",
    "# Simple Statistical Imputation\n",
    "---\n",
    "\n",
    "Mean/Median/Mode: Replace missing values with the mean (numerical), median (numerical), or mode (categorical) of the column."
   ]
  },
  {
   "cell_type": "code",
   "execution_count": 6,
   "metadata": {},
   "outputs": [
    {
     "name": "stdout",
     "output_type": "stream",
     "text": [
      "   column\n",
      "0     1.0\n",
      "1     2.0\n",
      "2     3.0\n",
      "3     4.0\n",
      "4     5.0\n"
     ]
    }
   ],
   "source": [
    "# Create the DataFrame\n",
    "data = {\n",
    "    'column': [1, 2, np.nan, 4, 5]\n",
    "}\n",
    "df = pd.DataFrame(data)\n",
    "\n",
    "# Modern approach without inplace=True\n",
    "df['column'] = df['column'].fillna(df['column'].mean())\n",
    "\n",
    "print(df)"
   ]
  },
  {
   "cell_type": "markdown",
   "metadata": {},
   "source": [
    "---\n",
    "# K-Nearest Neighbors (KNN) Imputation\n",
    "---\n",
    "\n",
    "Concept: Replace missing values based on the values of the nearest neighbors."
   ]
  },
  {
   "cell_type": "code",
   "execution_count": 11,
   "metadata": {},
   "outputs": [
    {
     "name": "stdout",
     "output_type": "stream",
     "text": [
      "     A    B     C\n",
      "0  1.0  5.0   9.0\n",
      "1  2.0  6.0  10.0\n",
      "2  3.0  7.0  11.0\n",
      "3  4.0  8.0  10.5\n"
     ]
    }
   ],
   "source": [
    "\n",
    "# Example DataFrame with missing values\n",
    "data = {\n",
    "    \"A\": [1, 2, np.nan, 4],\n",
    "    \"B\": [5, np.nan, 7, 8],\n",
    "    \"C\": [9, 10, 11, np.nan],\n",
    "}\n",
    "\n",
    "# Convert dictionary to DataFrame\n",
    "df = pd.DataFrame(data)\n",
    "\n",
    "# Initialize KNNImputer\n",
    "imputer = KNNImputer(n_neighbors=2)\n",
    "\n",
    "# Apply KNN Imputation\n",
    "imputed_data = imputer.fit_transform(df)\n",
    "\n",
    "# Convert back to DataFrame if needed\n",
    "imputed_df = pd.DataFrame(imputed_data, columns=df.columns)\n",
    "\n",
    "print(imputed_df)\n"
   ]
  },
  {
   "cell_type": "markdown",
   "metadata": {},
   "source": [
    "---\n",
    "# Regression Imputation\n",
    "---\n",
    "\n",
    "Concept: Predict missing values using regression models based on other variables in the dataset."
   ]
  },
  {
   "cell_type": "code",
   "execution_count": 31,
   "metadata": {},
   "outputs": [
    {
     "name": "stdout",
     "output_type": "stream",
     "text": [
      "Original Data:\n",
      "   Feature1  Feature2  Target\n",
      "0         1        10     5.0\n",
      "1         2        20     NaN\n",
      "2         3        30    15.0\n",
      "3         4        40     NaN\n",
      "4         5        50    25.0\n",
      "\n",
      "Data with Imputed Targets:\n",
      "   Feature1  Feature2  Target\n",
      "0         1        10     5.0\n",
      "1         2        20    10.0\n",
      "2         3        30    15.0\n",
      "3         4        40    20.0\n",
      "4         5        50    25.0\n"
     ]
    }
   ],
   "source": [
    "# --- Step 1: Create a simple dataset ---\n",
    "# Let's create a small dataset with some missing target values (NaN).\n",
    "data = {\n",
    "    'Feature1': [1, 2, 3, 4, 5],\n",
    "    'Feature2': [10, 20, 30, 40, 50],\n",
    "    'Target': [5, np.nan, 15, np.nan, 25]\n",
    "}\n",
    "\n",
    "df = pd.DataFrame(data)\n",
    "\n",
    "# Display the original data\n",
    "print(\"Original Data:\")\n",
    "print(df)\n",
    "\n",
    "# --- Step 2: Split data into training and testing ---\n",
    "# First, split the data into rows with known (non-missing) target values and rows with missing target values.\n",
    "train_data = df.dropna(subset=['Target'])  # Rows where Target is not NaN\n",
    "test_data = df[df['Target'].isna()]  # Rows where Target is NaN\n",
    "\n",
    "# Define X (features) and y (target)\n",
    "X_train = train_data[['Feature1', 'Feature2']]  # Features for training\n",
    "y_train = train_data['Target']  # Target values for training\n",
    "X_test = test_data[['Feature1', 'Feature2']]  # Features to predict for missing targets\n",
    "\n",
    "# --- Step 3: Fit a regression model ---\n",
    "model = LinearRegression()\n",
    "model.fit(X_train, y_train)  # Train the model on the known data\n",
    "\n",
    "# --- Step 4: Predict missing target values ---\n",
    "predicted_targets = model.predict(X_test)  # Predict missing values based on features\n",
    "\n",
    "# --- Step 5: Fill the missing target values ---\n",
    "df.loc[df['Target'].isna(), 'Target'] = predicted_targets\n",
    "\n",
    "# Display the updated data with imputed (predicted) target values\n",
    "print(\"\\nData with Imputed Targets:\")\n",
    "print(df)"
   ]
  },
  {
   "cell_type": "markdown",
   "metadata": {},
   "source": [
    "---\n",
    "# Multivariate Imputation by Chained Equations (MICE)\n",
    "---\n",
    "\n",
    "Concept: Iteratively predicts missing values using a series of regressions."
   ]
  },
  {
   "cell_type": "code",
   "execution_count": 37,
   "metadata": {},
   "outputs": [
    {
     "name": "stdout",
     "output_type": "stream",
     "text": [
      "Original Data:\n",
      "   Feature1  Feature2  Target\n",
      "0         1        10     5.0\n",
      "1         2        20     NaN\n",
      "2         3        30    15.0\n",
      "3         4        40     NaN\n",
      "4         5        50    25.0\n",
      "\n",
      "Data after Imputation (MICE):\n",
      "   Feature1  Feature2  Target\n",
      "0       1.0      10.0     5.0\n",
      "1       2.0      20.0    10.0\n",
      "2       3.0      30.0    15.0\n",
      "3       4.0      40.0    20.0\n",
      "4       5.0      50.0    25.0\n"
     ]
    }
   ],
   "source": [
    "# --- Step 1: Create a simple dataset ---\n",
    "# Let's create a dataset with some missing target values (NaN).\n",
    "data = {\n",
    "    'Feature1': [1, 2, 3, 4, 5],\n",
    "    'Feature2': [10, 20, 30, 40, 50],\n",
    "    'Target': [5, np.nan, 15, np.nan, 25]\n",
    "}\n",
    "\n",
    "df = pd.DataFrame(data)\n",
    "\n",
    "# Display the original data\n",
    "print(\"Original Data:\")\n",
    "print(df)\n",
    "\n",
    "# --- Step 2: Initialize the IterativeImputer ---\n",
    "# We will use MICE (Multivariate Imputation by Chained Equations) to predict the missing values.\n",
    "imputer = IterativeImputer(random_state=42)\n",
    "\n",
    "# --- Step 3: Fit the imputer model and transform the data ---\n",
    "# This step will impute the missing values in the entire dataset.\n",
    "imputed_data = imputer.fit_transform(df)\n",
    "\n",
    "# Convert the result back into a DataFrame\n",
    "df_imputed = pd.DataFrame(imputed_data, columns=df.columns)\n",
    "\n",
    "# Display the data after imputation\n",
    "print(\"\\nData after Imputation (MICE):\")\n",
    "print(df_imputed)"
   ]
  }
 ],
 "metadata": {
  "kernelspec": {
   "display_name": "venv",
   "language": "python",
   "name": "python3"
  },
  "language_info": {
   "codemirror_mode": {
    "name": "ipython",
    "version": 3
   },
   "file_extension": ".py",
   "mimetype": "text/x-python",
   "name": "python",
   "nbconvert_exporter": "python",
   "pygments_lexer": "ipython3",
   "version": "3.12.1"
  }
 },
 "nbformat": 4,
 "nbformat_minor": 2
}
