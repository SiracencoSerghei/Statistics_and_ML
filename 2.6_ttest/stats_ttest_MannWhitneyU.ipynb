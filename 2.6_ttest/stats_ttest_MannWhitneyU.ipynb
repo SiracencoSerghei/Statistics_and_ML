{
  "cells": [
    {
      "cell_type": "markdown",
      "metadata": {
        "id": "view-in-github",
        "colab_type": "text"
      },
      "source": [
        "<a href=\"https://colab.research.google.com/github/SiracencoSerghei/Statistics_and_ML/blob/main/2.6_ttest/stats_ttest_MannWhitneyU.ipynb\" target=\"_parent\"><img src=\"https://colab.research.google.com/assets/colab-badge.svg\" alt=\"Open In Colab\"/></a>"
      ]
    },
    {
      "cell_type": "markdown",
      "metadata": {
        "id": "ikVoZke837e5"
      },
      "source": [
        "# SECTION: The t-test family\n",
        "# Mann-Whitney U test"
      ]
    },
    {
      "cell_type": "code",
      "execution_count": 1,
      "metadata": {
        "id": "evdMBTFM37e6"
      },
      "outputs": [],
      "source": [
        "# import libraries\n",
        "import matplotlib.pyplot as plt\n",
        "import numpy as np\n",
        "import scipy.stats as stats"
      ]
    },
    {
      "cell_type": "code",
      "execution_count": 6,
      "metadata": {
        "id": "uw_4wdA-37e6",
        "outputId": "dff31358-fd05-496e-d8ac-34687a72d8eb",
        "colab": {
          "base_uri": "https://localhost:8080/",
          "height": 449
        }
      },
      "outputs": [
        {
          "output_type": "display_data",
          "data": {
            "text/plain": [
              "<Figure size 640x480 with 1 Axes>"
            ],
            "image/png": "[encoded data removed]"
          },
          "metadata": {}
        }
      ],
      "source": [
        "## generate the data\n",
        "\n",
        "# the data (note the different sample sizes)\n",
        "N1 = 30\n",
        "N2 = 35\n",
        "\n",
        "data1 = np.random.poisson(2,N1)\n",
        "data2 = np.random.poisson(1,N2)\n",
        "\n",
        "plt.plot(1+np.random.randn(N1)/10,data1,'ks',markerfacecolor='w')\n",
        "plt.plot(2+np.random.randn(N2)/10,data2,'ro',markerfacecolor='w')\n",
        "\n",
        "plt.xlim([0,3])\n",
        "plt.xticks([1,2],labels=('data1','data2'))\n",
        "plt.xlabel('Data group')\n",
        "plt.ylabel('Data value')\n",
        "plt.show()"
      ]
    },
    {
      "cell_type": "code",
      "execution_count": 7,
      "metadata": {
        "id": "NnH_BTZh37e6",
        "outputId": "6117eaf5-1f42-4f40-e54a-4ed23d26d11f",
        "colab": {
          "base_uri": "https://localhost:8080/"
        }
      },
      "outputs": [
        {
          "output_type": "stream",
          "name": "stdout",
          "text": [
            "771.0 0.0009101909506464938\n"
          ]
        }
      ],
      "source": [
        "## now for the test\n",
        "\n",
        "U,p = stats.mannwhitneyu(data1,data2)\n",
        "\n",
        "print(U,p)"
      ]
    }
  ],
  "metadata": {
    "kernelspec": {
      "display_name": "Python 3",
      "language": "python",
      "name": "python3"
    },
    "language_info": {
      "codemirror_mode": {
        "name": "ipython",
        "version": 3
      },
      "file_extension": ".py",
      "mimetype": "text/x-python",
      "name": "python",
      "nbconvert_exporter": "python",
      "pygments_lexer": "ipython3",
      "version": "3.7.4"
    },
    "colab": {
      "provenance": [],
      "include_colab_link": true
    }
  },
  "nbformat": 4,
  "nbformat_minor": 0
}